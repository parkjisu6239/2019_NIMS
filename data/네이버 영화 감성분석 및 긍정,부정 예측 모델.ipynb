{
 "cells": [
  {
   "cell_type": "markdown",
   "metadata": {},
   "source": [
    "## << 네이버 영화 데이터 긍정 부정 판단 모델링 >>\n",
    "네이버영화 메인 페이지 1~10위 영화 리뷰, 평점 크롤링 후 감성분석 모델링 만들어서 리뷰 입력하면 긍정,부정 판단하기"
   ]
  },
  {
   "cell_type": "markdown",
   "metadata": {},
   "source": [
    "### 전체 과정\n",
    "- step1. 네이버 영화 메인 페이지(현재 상영작) 에서 1~10위 영화의 상세페이지 주소 크롤링\n",
    "- step2. 상세페이지에서 평점의 더보기를 클릭했을 때 보여지는 페이지 주소 스크래핑\n",
    "- step3. 140자 평을 1페이지~끝 페이지 순회하면서 평점과 리뷰를 크롤링\n",
    "\n",
    "- step4. 학습을 위한 데이터 전처리\n",
    "- step5. 학습. 학습된 모델을 파일로 저장\n",
    "- step6. 저장된 모델을 불러와 사용"
   ]
  },
  {
   "cell_type": "markdown",
   "metadata": {},
   "source": [
    "비고 : 사전을 만들고 보다 정확한 분석을 하고자 했지만 시간적인 제약등 여러 문제점때문에 포기하고 train 데이터로 학습을 시키기로 했습니다.\n",
    "평점과 리뷰를 매치하여 \"평점을 잘 준사람은 리뷰도 긍정적으로 썼을 것이다\" 라는 전제 하에 분석을 진행했습니다."
   ]
  },
  {
   "cell_type": "markdown",
   "metadata": {},
   "source": [
    "### step0. import"
   ]
  },
  {
   "cell_type": "code",
   "execution_count": 1,
   "metadata": {},
   "outputs": [],
   "source": [
    "import requests # http에 접속 요청 처리\n",
    "from bs4 import BeautifulSoup #웹 크롤링에 필수\n",
    "from time import sleep #운영 체제의 시간 관련 기능을 다룸\n",
    "import pandas as pd #dataframe 생성\n",
    "import os #directory 관련\n",
    "from urllib import parse #웹상의 문서나 파일을 가져올 수 있게함"
   ]
  },
  {
   "cell_type": "markdown",
   "metadata": {},
   "source": [
    "### step1. 네이버영화 메인 페이지의 1~10위 영화 상세페이지 주소 스크래핑"
   ]
  },
  {
   "cell_type": "code",
   "execution_count": 2,
   "metadata": {},
   "outputs": [
    {
     "name": "stdout",
     "output_type": "stream",
     "text": [
      "136873\n",
      "189053\n",
      "179159\n",
      "179482\n",
      "167605\n",
      "182387\n",
      "163831\n",
      "154298\n",
      "181114\n",
      "189071\n",
      "주소 저장 완료\n"
     ]
    }
   ],
   "source": [
    "def step1_get_detail_url() :\n",
    "    # 접속할 페이지의 주소 네이버 영화 메인 페이지\n",
    "    site = 'https://movie.naver.com/movie/running/current.nhn?order=reserve'\n",
    "\n",
    "    # requests를 이용해 해당 URL에 접속한다\n",
    "    response = requests.get(site)   \n",
    "\n",
    "    # 영화 페이지를 크롤링한다\n",
    "    bs = BeautifulSoup(response.content, 'html.parser')\n",
    "\n",
    "    # a 태그들을 가져온다.\n",
    "    a_list = bs.select('.top_thumb_lst a')\n",
    "\n",
    "    # href 속성을 가져온다.\n",
    "    df = pd.DataFrame()\n",
    "    for idx in range(10) :       # 상위 10개만 가져오기\n",
    "        href = a_list[idx].get('href')\n",
    "        \n",
    "        # 가져온 href 속성의 주소를 분석한 객체를 생성한다.\n",
    "        a1 = parse.urlparse(href)\n",
    "        \n",
    "        # 주소를 분석한 객체서 쿼리 스트링을 가져온다(? 이후)\n",
    "        query_str = parse.parse_qs(a1.query)\n",
    "        \n",
    "        # 추출한 쿼리스트링 데이터에서 원하는 파라미터 데이터를 추출한다.\n",
    "        code = query_str['code'][0]\n",
    "        print(code)\n",
    "\n",
    "        df = df.append([[code]], ignore_index=True)\n",
    "\n",
    "    df.columns = ['code'] #추출한 10개 영화 코드를 저장한다.\n",
    "    df.to_csv('movie_code_list.csv', index=False, encoding='utf-8-sig') #코드를 CSV로 저장\n",
    "    print('주소 저장 완료')\n",
    "step1_get_detail_url()"
   ]
  },
  {
   "cell_type": "markdown",
   "metadata": {},
   "source": [
    "### step2. 상세페이지에서 평점의 더보기를 클릭했을 때 보여지는 페이지 주소 스크래핑"
   ]
  },
  {
   "cell_type": "code",
   "execution_count": 3,
   "metadata": {},
   "outputs": [
    {
     "name": "stdout",
     "output_type": "stream",
     "text": [
      "저장완료\n"
     ]
    }
   ],
   "source": [
    "def step2_get_reple_href() :\n",
    "    # 스크랩한 영화 코드를 불러온다.\n",
    "    code_frame = pd.read_csv('movie_code_list.csv')\n",
    "    code_list = code_frame['code'].tolist()\n",
    "    \n",
    "    #테스트용\n",
    "    #code_list = ['174903', '182355']\n",
    "\n",
    "    # 영화코드와 주소를 합쳐서 요청할 주소를 만든다.\n",
    "    url_list = pd.DataFrame()\n",
    "    for code in code_list: #코드가 들어갈 부분을 %s로 놓고 10개의 코드를 반복하여 url을 만든다\n",
    "        site = 'https://movie.naver.com/movie/bi/mi/pointWriteFormList.nhn?code=%s&type=after&isActualPointWriteExecute=false&isMileageSubscriptionAlready=false&isMileageSubscriptionReject=false' % code\n",
    "        url_list = url_list.append([[site]], ignore_index=True)\n",
    "\n",
    "    url_list.columns = ['url']\n",
    "    url_list.to_csv('movie_url_list.csv', index=False, encoding='utf-8-sig') #평점과 리뷰가 있는 영화의 상세 페이지 URL을 저장한다\n",
    "    print('저장완료')\n",
    "step2_get_reple_href()"
   ]
  },
  {
   "cell_type": "markdown",
   "metadata": {},
   "source": [
    "### step3. 리뷰를 1 page 부터 크롤링하여 별점과 같이 저장한다."
   ]
  },
  {
   "cell_type": "code",
   "execution_count": 4,
   "metadata": {},
   "outputs": [
    {
     "name": "stdout",
     "output_type": "stream",
     "text": [
      "https://movie.naver.com/movie/bi/mi/pointWriteFormList.nhn?code=136873&type=after&isActualPointWriteExecute=false&isMileageSubscriptionAlready=false&isMileageSubscriptionReject=false\n",
      "1 / 10\n",
      "2 / 10\n",
      "3 / 10\n",
      "4 / 10\n",
      "5 / 10\n",
      "6 / 10\n",
      "7 / 10\n",
      "8 / 10\n",
      "9 / 10\n",
      "10 / 10\n",
      "https://movie.naver.com/movie/bi/mi/pointWriteFormList.nhn?code=189053&type=after&isActualPointWriteExecute=false&isMileageSubscriptionAlready=false&isMileageSubscriptionReject=false\n",
      "1 / 10\n",
      "2 / 10\n",
      "3 / 10\n",
      "4 / 10\n",
      "5 / 10\n",
      "6 / 10\n",
      "7 / 10\n",
      "8 / 10\n",
      "9 / 10\n",
      "10 / 10\n",
      "https://movie.naver.com/movie/bi/mi/pointWriteFormList.nhn?code=179159&type=after&isActualPointWriteExecute=false&isMileageSubscriptionAlready=false&isMileageSubscriptionReject=false\n",
      "1 / 10\n",
      "2 / 10\n",
      "3 / 10\n",
      "4 / 10\n",
      "5 / 10\n",
      "6 / 10\n",
      "7 / 10\n",
      "8 / 10\n",
      "9 / 10\n",
      "10 / 10\n",
      "https://movie.naver.com/movie/bi/mi/pointWriteFormList.nhn?code=179482&type=after&isActualPointWriteExecute=false&isMileageSubscriptionAlready=false&isMileageSubscriptionReject=false\n",
      "1 / 10\n",
      "2 / 10\n",
      "3 / 10\n",
      "4 / 10\n",
      "5 / 10\n",
      "6 / 10\n",
      "7 / 10\n",
      "8 / 10\n",
      "9 / 10\n",
      "10 / 10\n",
      "https://movie.naver.com/movie/bi/mi/pointWriteFormList.nhn?code=167605&type=after&isActualPointWriteExecute=false&isMileageSubscriptionAlready=false&isMileageSubscriptionReject=false\n",
      "1 / 10\n",
      "2 / 10\n",
      "3 / 10\n",
      "4 / 10\n",
      "5 / 10\n",
      "6 / 10\n",
      "7 / 10\n",
      "8 / 10\n",
      "9 / 10\n",
      "10 / 10\n",
      "https://movie.naver.com/movie/bi/mi/pointWriteFormList.nhn?code=182387&type=after&isActualPointWriteExecute=false&isMileageSubscriptionAlready=false&isMileageSubscriptionReject=false\n",
      "1 / 10\n",
      "2 / 10\n",
      "3 / 10\n",
      "4 / 10\n",
      "5 / 10\n",
      "6 / 10\n",
      "7 / 10\n",
      "8 / 10\n",
      "9 / 10\n",
      "10 / 10\n",
      "https://movie.naver.com/movie/bi/mi/pointWriteFormList.nhn?code=163831&type=after&isActualPointWriteExecute=false&isMileageSubscriptionAlready=false&isMileageSubscriptionReject=false\n",
      "1 / 10\n",
      "2 / 10\n",
      "3 / 10\n",
      "4 / 10\n",
      "5 / 10\n",
      "6 / 10\n",
      "7 / 10\n",
      "8 / 10\n",
      "9 / 10\n",
      "10 / 10\n",
      "https://movie.naver.com/movie/bi/mi/pointWriteFormList.nhn?code=154298&type=after&isActualPointWriteExecute=false&isMileageSubscriptionAlready=false&isMileageSubscriptionReject=false\n",
      "1 / 10\n",
      "2 / 10\n",
      "3 / 10\n",
      "4 / 10\n",
      "5 / 10\n",
      "6 / 10\n",
      "7 / 10\n",
      "8 / 10\n",
      "9 / 10\n",
      "10 / 10\n",
      "https://movie.naver.com/movie/bi/mi/pointWriteFormList.nhn?code=181114&type=after&isActualPointWriteExecute=false&isMileageSubscriptionAlready=false&isMileageSubscriptionReject=false\n",
      "1 / 10\n",
      "2 / 10\n",
      "3 / 10\n",
      "4 / 10\n",
      "5 / 10\n",
      "6 / 10\n",
      "7 / 10\n",
      "8 / 10\n",
      "9 / 10\n",
      "10 / 10\n",
      "https://movie.naver.com/movie/bi/mi/pointWriteFormList.nhn?code=189071&type=after&isActualPointWriteExecute=false&isMileageSubscriptionAlready=false&isMileageSubscriptionReject=false\n",
      "1 / 10\n",
      "2 / 10\n",
      "3 / 10\n",
      "4 / 10\n",
      "5 / 10\n",
      "6 / 10\n",
      "7 / 10\n",
      "8 / 10\n",
      "9 / 10\n",
      "10 / 10\n",
      "저장완료\n"
     ]
    }
   ],
   "source": [
    "def step3_get_reply_data() :\n",
    "    # csv에 저장되어 있는 url 데이터를 가져온다.\n",
    "    df = pd.read_csv('movie_url_list.csv')\n",
    "    url_list = df['url'].tolist()\n",
    "\n",
    "    for url in url_list :\n",
    "        print(url)\n",
    "        # 해당 영화의 첫 페이지 html 데이터를 가져온다. (총 몇건의 리뷰가 있는지 확인해서 \"페이지수\"를 계산하기 위함)\n",
    "        response = requests.get(url)\n",
    "        bs = BeautifulSoup(response.content, 'html.parser') #10개의 영화의 평점,리뷰 페이지를 크롤링한다\n",
    "\n",
    "        # 총 페이지 수를 구한다.\n",
    "        strong = bs.select('.total em')\n",
    "        score_total = int(strong[0].text.replace(',', ''))    # 쉼표 없애기 / int(정수형)로 만들기\n",
    "        \n",
    "        pageCnt = score_total // 10     # 한페이지당 10개의 리뷰가 있어서\n",
    "        if score_total % 10 > 0 :\n",
    "            pageCnt += 1\n",
    "\n",
    "        # 전체 페이지를 돌면서 140평 데이터를 가져온다.\n",
    "        # 현재 페이지\n",
    "        now_page = 1\n",
    "\n",
    "        pageCnt = 10        # 일단 테스트로 10페이지까지만 했습니다. 전부 하면 2000개가 넘는 페이지가 있어서 잘 안돌아감\n",
    "        while now_page <= pageCnt :\n",
    "            sleep(1)\n",
    "            # 요청할 페이지의 주소\n",
    "            url2 = url + '&page=' + str(now_page)\n",
    "\n",
    "            # 140자평 데이터를 추출한다.\n",
    "            response2 = requests.get(url2)\n",
    "            bs2 = BeautifulSoup(response2.content, 'html.parser')\n",
    "\n",
    "            result_df = pd.DataFrame()\n",
    "\n",
    "            # li 태그들을 가져온다.(score_reple 태그-리뷰-를 포함하고 있는)\n",
    "            lis = bs2.select('.score_result li')\n",
    "\n",
    "            for obj in lis :\n",
    "                # 평점\n",
    "                star_score = obj.select('.star_score em')[0].text\n",
    "                # 140자평\n",
    "                score_reple = obj.select('.score_reple p')[0].text\n",
    "                # 저장한다.\n",
    "                result_df = result_df.append([[score_reple, star_score]], ignore_index=True)\n",
    "\n",
    "            if os.path.exists('star_score.csv') == False :     # 아직 파일이 없으면 파일을 만든다. 평점과 평가를 feature로 하는 dataframe을 저장\n",
    "                result_df.columns = ['text', 'score']\n",
    "                result_df.to_csv('star_score.csv', index=False, encoding='utf-8-sig')\n",
    "            else :                                               # 이미 파일이 있으면 결과를 더한다.\n",
    "                result_df.to_csv('star_score.csv', index=False, encoding='utf-8-sig', mode='a', header=False)\n",
    "\n",
    "            print(\"%d / %d\" % (now_page, pageCnt))               # 진행경과를 보여준다. n번째 중 몇 번째 진행중인지.\n",
    "            now_page += 1\n",
    "\n",
    "    print('저장완료')\n",
    "step3_get_reply_data()"
   ]
  },
  {
   "cell_type": "code",
   "execution_count": 5,
   "metadata": {},
   "outputs": [],
   "source": [
    "# 140자평 데이터 전처리 함수\n",
    "def text_preprocessing(text) :\n",
    "    if text.startswith('관람객') :\n",
    "        return text[3:]\n",
    "    else :\n",
    "        return text\n",
    "    \n",
    "# 평점 전처리 함수\n",
    "def star_preprocessing(text) :\n",
    "    value = int(text)\n",
    "\n",
    "    if value <= 6 :\n",
    "        return '0'\n",
    "    else :\n",
    "        return '1'"
   ]
  },
  {
   "cell_type": "markdown",
   "metadata": {},
   "source": [
    "### step4. 학습을 위해 데이터 전처리를 수행한다."
   ]
  },
  {
   "cell_type": "code",
   "execution_count": 6,
   "metadata": {},
   "outputs": [],
   "source": [
    "def step4_data_preprocessing() :\n",
    "    # 수집한 데이터를 읽어온다.\n",
    "    df = pd.read_csv('star_score.csv')\n",
    "\n",
    "    # 전처리를 수행한다.\n",
    "    df['text'] = df['text'].apply(text_preprocessing)\n",
    "    df['score'] = df['score'].apply(star_preprocessing)\n",
    "\n",
    "    # 학습데이터와 테스트 데이터로 나눈다.\n",
    "    text_list = df['text'].tolist()\n",
    "    star_list = df['score'].tolist()\n",
    "\n",
    "    from sklearn.model_selection import train_test_split\n",
    "\n",
    "    # 70%는 학습, 30%는 test\n",
    "    text_train, text_test, star_train, star_test = train_test_split(text_list, star_list, test_size=0.3, random_state=0)\n",
    "\n",
    "    return text_train, text_test, star_train, star_test\n",
    "\n",
    "\n",
    "from sklearn.feature_extraction.text import TfidfVectorizer\n",
    "from sklearn.linear_model import LogisticRegression\n",
    "from sklearn.pipeline import Pipeline\n",
    "from sklearn.metrics import accuracy_score\n",
    "import pickle\n",
    "from konlpy.tag import *"
   ]
  },
  {
   "cell_type": "markdown",
   "metadata": {},
   "source": [
    "### 형태소 분석 함수"
   ]
  },
  {
   "cell_type": "code",
   "execution_count": 7,
   "metadata": {},
   "outputs": [],
   "source": [
    "# 형태소 분석을 위한 함수\n",
    "def tokenizer(text) :\n",
    "    okt = Okt()\n",
    "    return okt.morphs(text)"
   ]
  },
  {
   "cell_type": "markdown",
   "metadata": {},
   "source": [
    "### step5. 학습을 한다. 학습이 완료된 모델을 파일로 저장한다."
   ]
  },
  {
   "cell_type": "code",
   "execution_count": 8,
   "metadata": {},
   "outputs": [],
   "source": [
    "def step5_learning(X_train, y_train, X_test, y_test):\n",
    "    # 주어진 데이터를 단어 사전으로 만들고 각 단어의 빈도수를 계산한 후 벡터화 하는 객체 생성\n",
    "    tfidf = TfidfVectorizer(lowercase=False, tokenizer=tokenizer) \n",
    "\n",
    "    # 문장별 나오는 단어수 세서 수치화, 벡터화해서 학습을 시킨다. 회귀분석 이용\n",
    "    logistic = LogisticRegression(C=10.0, penalty='l2', random_state=0)\n",
    "\n",
    "    pipe = Pipeline([('vect', tfidf), ('clf', logistic)])\n",
    "\n",
    "    # 학습한다.\n",
    "    pipe.fit(X_train, y_train)\n",
    "\n",
    "    # 학습 정확도 측정\n",
    "    y_pred = pipe.predict(X_test)\n",
    "    print(accuracy_score(y_test, y_pred))\n",
    "\n",
    "    # 학습된 모델을 저장한다.\n",
    "    with open('pipe.dat', 'wb') as fp :\n",
    "        pickle.dump(pipe, fp)\n",
    "        \n",
    "    print('저장완료')"
   ]
  },
  {
   "cell_type": "markdown",
   "metadata": {},
   "source": [
    "### step6. 저장된 모델을 불러와 사용한다."
   ]
  },
  {
   "cell_type": "code",
   "execution_count": 9,
   "metadata": {},
   "outputs": [],
   "source": [
    "def step6_using_model() :\n",
    "    # 객체를 복원한다.\n",
    "    with open('pipe.dat', 'rb') as fp:\n",
    "        pipe = pickle.load(fp)\n",
    "\n",
    "    import numpy as np\n",
    "\n",
    "    while True :\n",
    "        text = input('리뷰를 작성해주세요 :')\n",
    "\n",
    "        str = [text]\n",
    "        # 예측 정확도\n",
    "        r1 = np.max(pipe.predict_proba(str) * 100)\n",
    "        # 예측 결과\n",
    "        r2 = pipe.predict(str)[0]\n",
    "\n",
    "        if r2 == '1' :\n",
    "            print('긍정적인 리뷰')\n",
    "        else :\n",
    "            print('부정적인 리뷰')\n",
    "\n",
    "        print('정확도 : %.3f' % r1)"
   ]
  },
  {
   "cell_type": "code",
   "execution_count": 10,
   "metadata": {},
   "outputs": [],
   "source": [
    "# 스크래핑 함수\n",
    "def scrapping() :\n",
    "\n",
    "    # 각 영화 코드 데이터를 가져와 저장한다.\n",
    "    # step1_get_detail_url()\n",
    "\n",
    "    # 140자 평 데이터가 있는 페이지의 주소를 저장한다.\n",
    "    step2_get_reple_href()\n",
    "\n",
    "    # 140평 데이터를 가져온다.\n",
    "    step3_get_reply_data()\n",
    "\n",
    "# 학습 함수\n",
    "def learing() :\n",
    "    text_train, text_test, star_train, star_test = step4_data_preprocessing()\n",
    "    step5_learning(text_train, star_train, text_test, star_test)\n",
    "\n",
    "# 사용 함수\n",
    "def using() :\n",
    "    step6_using_model()"
   ]
  },
  {
   "cell_type": "code",
   "execution_count": null,
   "metadata": {},
   "outputs": [
    {
     "name": "stderr",
     "output_type": "stream",
     "text": [
      "C:\\Users\\jisu\\Miniconda3\\envs\\nims-academy-2019-08\\lib\\site-packages\\sklearn\\linear_model\\logistic.py:432: FutureWarning: Default solver will be changed to 'lbfgs' in 0.22. Specify a solver to silence this warning.\n",
      "  FutureWarning)\n"
     ]
    },
    {
     "name": "stdout",
     "output_type": "stream",
     "text": [
      "0.9888888888888889\n",
      "저장완료\n"
     ]
    },
    {
     "name": "stdin",
     "output_type": "stream",
     "text": [
      "리뷰를 작성해주세요 : 너무 지루함 보다가 잠듬\n"
     ]
    },
    {
     "name": "stdout",
     "output_type": "stream",
     "text": [
      "부정적인 리뷰\n",
      "정확도 : 50.489\n"
     ]
    },
    {
     "name": "stdin",
     "output_type": "stream",
     "text": [
      "리뷰를 작성해주세요 : 1편보다 노래도 별로고 개연성도 떨어지고 노잼\n"
     ]
    },
    {
     "name": "stdout",
     "output_type": "stream",
     "text": [
      "부정적인 리뷰\n",
      "정확도 : 91.316\n"
     ]
    },
    {
     "name": "stdin",
     "output_type": "stream",
     "text": [
      "리뷰를 작성해주세요 : 돈아까운 영화 누가 본다고 하면 말릴듯\n"
     ]
    },
    {
     "name": "stdout",
     "output_type": "stream",
     "text": [
      "긍정적인 리뷰\n",
      "정확도 : 98.747\n"
     ]
    }
   ],
   "source": [
    "#scrapping()\n",
    "learing()\n",
    "using()"
   ]
  },
  {
   "cell_type": "code",
   "execution_count": null,
   "metadata": {},
   "outputs": [],
   "source": []
  },
  {
   "cell_type": "code",
   "execution_count": null,
   "metadata": {},
   "outputs": [],
   "source": []
  }
 ],
 "metadata": {
  "kernelspec": {
   "display_name": "Python 3",
   "language": "python",
   "name": "python3"
  },
  "language_info": {
   "codemirror_mode": {
    "name": "ipython",
    "version": 3
   },
   "file_extension": ".py",
   "mimetype": "text/x-python",
   "name": "python",
   "nbconvert_exporter": "python",
   "pygments_lexer": "ipython3",
   "version": "3.7.3"
  }
 },
 "nbformat": 4,
 "nbformat_minor": 4
}
